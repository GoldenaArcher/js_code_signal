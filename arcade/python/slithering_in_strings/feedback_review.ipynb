{
 "cells": [
  {
   "cell_type": "code",
   "execution_count": null,
   "source": [
    "import textwrap\r\n",
    "\r\n",
    "def feedbackReview(feedback, size):\r\n",
    "    return textwrap.wrap(feedback, size)\r\n"
   ],
   "outputs": [],
   "metadata": {}
  },
  {
   "cell_type": "markdown",
   "source": [
    "The [textwrap](https://docs.python.org/3/library/textwrap.html) module provides some convenience functions:"
   ],
   "metadata": {}
  },
  {
   "cell_type": "markdown",
   "source": [
    "```bash\r\n",
    ">>> textwrap.shorten(\"Hello  world!\", width=12)\r\n",
    "'Hello world!'\r\n",
    ">>> textwrap.shorten(\"Hello  world!\", width=11)\r\n",
    "'Hello [...]'\r\n",
    ">>> textwrap.shorten(\"Hello world\", width=10, placeholder=\"...\")\r\n",
    "'Hello...'\r\n",
    "```"
   ],
   "metadata": {}
  }
 ],
 "metadata": {
  "orig_nbformat": 4,
  "language_info": {
   "name": "python"
  }
 },
 "nbformat": 4,
 "nbformat_minor": 2
}