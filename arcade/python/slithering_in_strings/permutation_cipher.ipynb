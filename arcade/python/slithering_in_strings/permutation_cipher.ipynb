{
 "cells": [
  {
   "cell_type": "code",
   "execution_count": 20,
   "source": [
    "def permutationCipher(password, key):\r\n",
    "    table = password.maketrans(dict(zip([i for i in range(97, 123)], key)))\r\n",
    "    return password.translate(table)\r\n"
   ],
   "outputs": [],
   "metadata": {}
  },
  {
   "cell_type": "code",
   "execution_count": 21,
   "source": [
    "permutationCipher(\"iamthebest\", \"zabcdefghijklmnopqrstuvwxy\")"
   ],
   "outputs": [
    {
     "output_type": "stream",
     "name": "stdout",
     "text": [
      "{97: 'z', 98: 'a', 99: 'b', 100: 'c', 101: 'd', 102: 'e', 103: 'f', 104: 'g', 105: 'h', 106: 'i', 107: 'j', 108: 'k', 109: 'l', 110: 'm', 111: 'n', 112: 'o', 113: 'p', 114: 'q', 115: 'r', 116: 's', 117: 't', 118: 'u', 119: 'v', 120: 'w', 121: 'x', 122: 'y'}\n"
     ]
    },
    {
     "output_type": "execute_result",
     "data": {
      "text/plain": [
       "'hzlsgdadrs'"
      ]
     },
     "metadata": {},
     "execution_count": 21
    }
   ],
   "metadata": {}
  }
 ],
 "metadata": {
  "orig_nbformat": 4,
  "language_info": {
   "name": "python",
   "version": "3.8.8",
   "mimetype": "text/x-python",
   "codemirror_mode": {
    "name": "ipython",
    "version": 3
   },
   "pygments_lexer": "ipython3",
   "nbconvert_exporter": "python",
   "file_extension": ".py"
  },
  "kernelspec": {
   "name": "python3",
   "display_name": "Python 3.8.8 64-bit ('base': conda)"
  },
  "interpreter": {
   "hash": "b0688fdfcc5fd2857382b4c09d806b0ccfa6b2c73c761914937a5b400c0fa5be"
  }
 },
 "nbformat": 4,
 "nbformat_minor": 2
}