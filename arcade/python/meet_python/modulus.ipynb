{
 "cells": [
  {
   "cell_type": "code",
   "execution_count": null,
   "source": [
    "def modulus(n):\r\n",
    "    if n % 1 == 0:\r\n",
    "        return n % 2\r\n",
    "    else:\r\n",
    "        return -1\r\n"
   ],
   "outputs": [],
   "metadata": {}
  }
 ],
 "metadata": {
  "orig_nbformat": 4,
  "language_info": {
   "name": "python"
  }
 },
 "nbformat": 4,
 "nbformat_minor": 2
}