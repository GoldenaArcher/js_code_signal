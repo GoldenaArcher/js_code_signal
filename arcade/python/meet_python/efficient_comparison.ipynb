{
 "cells": [
  {
   "cell_type": "markdown",
   "source": [
    "You would like to write a function that takes integer numbers `x`, `y`, `L` and `R` as parameters, and returns `True` if $x^y$ lies within the interval `(L, R]` and `False` otherwise. You're considering several different ways to write the conditional statement inside this function:"
   ],
   "metadata": {}
  },
  {
   "cell_type": "markdown",
   "source": [
    "1. `if L < x ** y <= R:`"
   ],
   "metadata": {}
  },
  {
   "cell_type": "markdown",
   "source": [
    "2. `if x ** y > L and x ** y <= R:`"
   ],
   "metadata": {}
  },
  {
   "cell_type": "markdown",
   "source": [
    "3. `if x ** y in range (L + 1, R + 1):`"
   ],
   "metadata": {}
  },
  {
   "cell_type": "markdown",
   "source": [
    "Which option would be the most efficient in terms of execution time?"
   ],
   "metadata": {}
  },
  {
   "cell_type": "code",
   "execution_count": 3,
   "source": [
    "L = 10\r\n",
    "x = 100\r\n",
    "y = 100\r\n",
    "R = 1000000000"
   ],
   "outputs": [],
   "metadata": {}
  },
  {
   "cell_type": "code",
   "execution_count": 6,
   "source": [
    "if L < x ** y <= R:\r\n",
    "    print(x ** y)"
   ],
   "outputs": [],
   "metadata": {}
  },
  {
   "cell_type": "code",
   "execution_count": 5,
   "source": [
    "if x ** y > L and x ** y <= R:\r\n",
    "    print(x ** y)"
   ],
   "outputs": [],
   "metadata": {}
  },
  {
   "cell_type": "code",
   "execution_count": 8,
   "source": [
    "if x ** y in range(L + 1, R + 1):\r\n",
    "    print (x ** y)"
   ],
   "outputs": [],
   "metadata": {}
  }
 ],
 "metadata": {
  "orig_nbformat": 4,
  "language_info": {
   "name": "python",
   "version": "3.6.3",
   "mimetype": "text/x-python",
   "codemirror_mode": {
    "name": "ipython",
    "version": 3
   },
   "pygments_lexer": "ipython3",
   "nbconvert_exporter": "python",
   "file_extension": ".py"
  },
  "kernelspec": {
   "name": "python3",
   "display_name": "Python 3.6.3 64-bit"
  },
  "interpreter": {
   "hash": "1312eea46554241bbee0ee4d7ada258ce491c12d5bb5b7e6c24f8c39935d8c8e"
  }
 },
 "nbformat": 4,
 "nbformat_minor": 2
}