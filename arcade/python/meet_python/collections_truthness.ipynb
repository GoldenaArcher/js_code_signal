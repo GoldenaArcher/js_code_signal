{
 "cells": [
  {
   "cell_type": "markdown",
   "source": [
    "What will be the value of `res` after the following codesnippet is executed"
   ],
   "metadata": {}
  },
  {
   "cell_type": "code",
   "execution_count": null,
   "source": [
    "xs = [()]\r\n",
    "res = [False] * 2\r\n",
    "print(res)"
   ],
   "outputs": [],
   "metadata": {}
  },
  {
   "cell_type": "code",
   "execution_count": null,
   "source": [
    "if xs:\r\n",
    "    res[0] = True\r\n",
    "if [xs[0]]:\r\n",
    "    res[1] = True"
   ],
   "outputs": [],
   "metadata": {}
  }
 ],
 "metadata": {
  "orig_nbformat": 4,
  "language_info": {
   "name": "python",
   "version": "3.6.3"
  },
  "kernelspec": {
   "name": "python3",
   "display_name": "Python 3.6.3 64-bit"
  },
  "interpreter": {
   "hash": "1312eea46554241bbee0ee4d7ada258ce491c12d5bb5b7e6c24f8c39935d8c8e"
  }
 },
 "nbformat": 4,
 "nbformat_minor": 2
}