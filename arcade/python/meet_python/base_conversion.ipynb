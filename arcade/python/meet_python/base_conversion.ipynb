{
 "cells": [
  {
   "cell_type": "code",
   "execution_count": 16,
   "source": [
    "def baseConversion(n, x):\r\n",
    "    return hex(int(n, x))[2:]\r\n"
   ],
   "outputs": [],
   "metadata": {}
  },
  {
   "cell_type": "code",
   "execution_count": 17,
   "source": [
    "print(baseConversion(\"1302\", 5))"
   ],
   "outputs": [
    {
     "output_type": "stream",
     "name": "stdout",
     "text": [
      "ca\n"
     ]
    }
   ],
   "metadata": {}
  }
 ],
 "metadata": {
  "orig_nbformat": 4,
  "language_info": {
   "name": "python",
   "version": "3.6.3",
   "mimetype": "text/x-python",
   "codemirror_mode": {
    "name": "ipython",
    "version": 3
   },
   "pygments_lexer": "ipython3",
   "nbconvert_exporter": "python",
   "file_extension": ".py"
  },
  "kernelspec": {
   "name": "python3",
   "display_name": "Python 3.6.3 64-bit"
  },
  "interpreter": {
   "hash": "1312eea46554241bbee0ee4d7ada258ce491c12d5bb5b7e6c24f8c39935d8c8e"
  }
 },
 "nbformat": 4,
 "nbformat_minor": 2
}