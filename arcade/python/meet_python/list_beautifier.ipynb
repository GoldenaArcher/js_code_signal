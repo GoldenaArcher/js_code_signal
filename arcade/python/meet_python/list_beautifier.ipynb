{
 "cells": [
  {
   "cell_type": "code",
   "execution_count": 10,
   "source": [
    "def listBeautifier(a):\r\n",
    "    res = a[:]\r\n",
    "    while res and res[0] != res[-1]:\r\n",
    "        first, *res, last= res\r\n",
    "    return res\r\n"
   ],
   "outputs": [],
   "metadata": {}
  },
  {
   "cell_type": "code",
   "execution_count": 11,
   "source": [
    "listBeautifier( [3, 4, 2, 4, 38, 4, 5, 3, 2])"
   ],
   "outputs": [
    {
     "output_type": "execute_result",
     "data": {
      "text/plain": [
       "[4, 38, 4]"
      ]
     },
     "metadata": {},
     "execution_count": 11
    }
   ],
   "metadata": {}
  }
 ],
 "metadata": {
  "orig_nbformat": 4,
  "language_info": {
   "name": "python",
   "version": "3.6.3",
   "mimetype": "text/x-python",
   "codemirror_mode": {
    "name": "ipython",
    "version": 3
   },
   "pygments_lexer": "ipython3",
   "nbconvert_exporter": "python",
   "file_extension": ".py"
  },
  "kernelspec": {
   "name": "python3",
   "display_name": "Python 3.6.3 64-bit"
  },
  "interpreter": {
   "hash": "1312eea46554241bbee0ee4d7ada258ce491c12d5bb5b7e6c24f8c39935d8c8e"
  }
 },
 "nbformat": 4,
 "nbformat_minor": 2
}