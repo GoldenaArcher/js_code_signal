{
 "cells": [
  {
   "cell_type": "markdown",
   "source": [
    "Your friend is an experienced coder who just started learning Python. Since she is already proficient in Java and C++, she decided to write all of her snippets in all three languages, in order to ensure the Python code was working as expected. Here's the very first function your friend wrote in Python and Java (the C++ version is the same as Java one):"
   ],
   "metadata": {}
  },
  {
   "cell_type": "markdown",
   "source": [
    "- Python:\r\n",
    "\r\n",
    "   ```python\r\n",
    "   def division(x, y):\r\n",
    "       return x // y\r\n",
    "   ```"
   ],
   "metadata": {}
  },
  {
   "cell_type": "markdown",
   "source": [
    "- Java:\r\n",
    "\r\n",
    "  ```java\r\n",
    "  int division(int x int y) {\r\n",
    "      return x / y\r\n",
    "  }\r\n",
    "  ```"
   ],
   "metadata": {}
  },
  {
   "cell_type": "markdown",
   "source": [
    "You noticed that the functions aren't quite the same: they won't produce the same result for some valid values of `x` and `y`. For which of the following example inputs would these two versions produce different outputs?"
   ],
   "metadata": {}
  },
  {
   "cell_type": "code",
   "execution_count": 6,
   "source": [
    "x = 5\r\n",
    "\r\n",
    "y = 10"
   ],
   "outputs": [],
   "metadata": {}
  },
  {
   "cell_type": "code",
   "execution_count": 9,
   "source": [
    "x = -10\r\n",
    "\r\n",
    "y = -3"
   ],
   "outputs": [],
   "metadata": {}
  },
  {
   "cell_type": "code",
   "execution_count": 8,
   "source": [
    "x = -8\r\n",
    "\r\n",
    "y = 2"
   ],
   "outputs": [],
   "metadata": {}
  },
  {
   "cell_type": "code",
   "execution_count": 10,
   "source": [
    "x = 17\r\n",
    "\r\n",
    "y = 13"
   ],
   "outputs": [],
   "metadata": {}
  },
  {
   "cell_type": "code",
   "execution_count": 11,
   "source": [
    "x = 15\r\n",
    "\r\n",
    "y = -4"
   ],
   "outputs": [],
   "metadata": {}
  }
 ],
 "metadata": {
  "orig_nbformat": 4,
  "language_info": {
   "name": "python",
   "version": "3.6.3",
   "mimetype": "text/x-python",
   "codemirror_mode": {
    "name": "ipython",
    "version": 3
   },
   "pygments_lexer": "ipython3",
   "nbconvert_exporter": "python",
   "file_extension": ".py"
  },
  "kernelspec": {
   "name": "python3",
   "display_name": "Python 3.6.3 64-bit"
  },
  "interpreter": {
   "hash": "1312eea46554241bbee0ee4d7ada258ce491c12d5bb5b7e6c24f8c39935d8c8e"
  }
 },
 "nbformat": 4,
 "nbformat_minor": 2
}