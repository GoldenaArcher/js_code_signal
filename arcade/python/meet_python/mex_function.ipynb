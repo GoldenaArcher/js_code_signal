{
 "cells": [
  {
   "cell_type": "code",
   "execution_count": 10,
   "source": [
    "def mexFunction(s, upperBound):\r\n",
    "    found = -1\r\n",
    "    for i in range(upperBound):\r\n",
    "        print(s)\r\n",
    "        if not i in s:\r\n",
    "            found = i\r\n",
    "            break\r\n",
    "    else:\r\n",
    "        found = upperBound\r\n",
    "        \r\n",
    "\r\n",
    "    return found\r\n"
   ],
   "outputs": [],
   "metadata": {}
  },
  {
   "cell_type": "code",
   "execution_count": 12,
   "source": [
    "mexFunction( [0, 4, 2, 3, 1, 7], 10)"
   ],
   "outputs": [
    {
     "output_type": "stream",
     "name": "stdout",
     "text": [
      "[0, 4, 2, 3, 1, 7]\n",
      "[0, 4, 2, 3, 1, 7]\n",
      "[0, 4, 2, 3, 1, 7]\n",
      "[0, 4, 2, 3, 1, 7]\n",
      "[0, 4, 2, 3, 1, 7]\n",
      "[0, 4, 2, 3, 1, 7]\n"
     ]
    },
    {
     "output_type": "execute_result",
     "data": {
      "text/plain": [
       "5"
      ]
     },
     "metadata": {},
     "execution_count": 12
    }
   ],
   "metadata": {}
  },
  {
   "cell_type": "code",
   "execution_count": 11,
   "source": [
    "mexFunction([0, 4, 2, 3, 1, 7], 3)"
   ],
   "outputs": [
    {
     "output_type": "stream",
     "name": "stdout",
     "text": [
      "[0, 4, 2, 3, 1, 7]\n",
      "[0, 4, 2, 3, 1, 7]\n",
      "[0, 4, 2, 3, 1, 7]\n"
     ]
    },
    {
     "output_type": "execute_result",
     "data": {
      "text/plain": [
       "3"
      ]
     },
     "metadata": {},
     "execution_count": 11
    }
   ],
   "metadata": {}
  }
 ],
 "metadata": {
  "orig_nbformat": 4,
  "language_info": {
   "name": "python",
   "version": "3.6.3",
   "mimetype": "text/x-python",
   "codemirror_mode": {
    "name": "ipython",
    "version": 3
   },
   "pygments_lexer": "ipython3",
   "nbconvert_exporter": "python",
   "file_extension": ".py"
  },
  "kernelspec": {
   "name": "python3",
   "display_name": "Python 3.6.3 64-bit"
  },
  "interpreter": {
   "hash": "1312eea46554241bbee0ee4d7ada258ce491c12d5bb5b7e6c24f8c39935d8c8e"
  }
 },
 "nbformat": 4,
 "nbformat_minor": 2
}