{
 "cells": [
  {
   "cell_type": "code",
   "execution_count": null,
   "source": [
    "def simpleSort(arr):\r\n",
    "\r\n",
    "    n = len(arr)\r\n",
    "\r\n",
    "    for i in range(n):\r\n",
    "        j = 0\r\n",
    "        stop = n - i\r\n",
    "        while j < stop - 1:\r\n",
    "            if arr[j] > arr[j + 1]:\r\n",
    "                arr[j], arr[j+1] = arr[j+1], arr[j]\r\n",
    "            j += 1\r\n",
    "    return arr\r\n"
   ],
   "outputs": [],
   "metadata": {}
  }
 ],
 "metadata": {
  "orig_nbformat": 4,
  "language_info": {
   "name": "python"
  }
 },
 "nbformat": 4,
 "nbformat_minor": 2
}