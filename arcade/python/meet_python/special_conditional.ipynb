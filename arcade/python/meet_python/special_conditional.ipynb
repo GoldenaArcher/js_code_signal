{
 "cells": [
  {
   "cell_type": "markdown",
   "source": [
    "Given two boolean variables `a` and `b`, one of the following statements works differently than the others. Which one is it?"
   ],
   "metadata": {}
  },
  {
   "cell_type": "code",
   "execution_count": null,
   "source": [
    "a = True\r\n",
    "b = False"
   ],
   "outputs": [],
   "metadata": {}
  },
  {
   "cell_type": "code",
   "execution_count": null,
   "source": [
    "a == (not b)"
   ],
   "outputs": [],
   "metadata": {}
  },
  {
   "cell_type": "code",
   "execution_count": null,
   "source": [
    "not (a == b)"
   ],
   "outputs": [],
   "metadata": {}
  },
  {
   "cell_type": "code",
   "execution_count": null,
   "source": [
    "a == not b"
   ],
   "outputs": [],
   "metadata": {}
  },
  {
   "cell_type": "code",
   "execution_count": null,
   "source": [
    "not a == b"
   ],
   "outputs": [],
   "metadata": {}
  }
 ],
 "metadata": {
  "orig_nbformat": 4,
  "language_info": {
   "name": "python",
   "version": "3.6.3"
  },
  "kernelspec": {
   "name": "python3",
   "display_name": "Python 3.6.3 64-bit"
  },
  "interpreter": {
   "hash": "1312eea46554241bbee0ee4d7ada258ce491c12d5bb5b7e6c24f8c39935d8c8e"
  }
 },
 "nbformat": 4,
 "nbformat_minor": 2
}